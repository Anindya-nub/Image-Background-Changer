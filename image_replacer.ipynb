{
  "nbformat": 4,
  "nbformat_minor": 0,
  "metadata": {
    "colab": {
      "provenance": [],
      "authorship_tag": "ABX9TyNUeZ9vIoFa1pNoZR2y8Ett",
      "include_colab_link": true
    },
    "kernelspec": {
      "name": "python3",
      "display_name": "Python 3"
    },
    "language_info": {
      "name": "python"
    }
  },
  "cells": [
    {
      "cell_type": "markdown",
      "metadata": {
        "id": "view-in-github",
        "colab_type": "text"
      },
      "source": [
        "<a href=\"https://colab.research.google.com/github/Anindya-nub/try-kar-rha-hoo/blob/main/image_replacer.ipynb\" target=\"_parent\"><img src=\"https://colab.research.google.com/assets/colab-badge.svg\" alt=\"Open In Colab\"/></a>"
      ]
    },
    {
      "cell_type": "code",
      "execution_count": null,
      "metadata": {
        "collapsed": true,
        "id": "sLQ5_oFhIi_2"
      },
      "outputs": [],
      "source": [
        "!pip install rembg"
      ]
    },
    {
      "cell_type": "code",
      "source": [
        "from rembg import remove\n",
        "import requests\n",
        "from PIL import Image\n",
        "from io import BytesIO\n",
        "import os"
      ],
      "metadata": {
        "id": "c1uCXc-PIpiL"
      },
      "execution_count": null,
      "outputs": []
    },
    {
      "cell_type": "code",
      "source": [
        "os.makedirs('original', exist_ok = True)\n",
        "os.makedirs('masked', exist_ok = True)"
      ],
      "metadata": {
        "id": "zwa8skDsJLVd"
      },
      "execution_count": null,
      "outputs": []
    },
    {
      "cell_type": "code",
      "source": [
        "img_url = 'https://www.bentleymotors.com/content/dam/bm/websites/bmcom/bentleymotors-com/homepage/launch/Mulliner%20Article%20Teaser%204.jpg/_jcr_content/renditions/original.image_file.1024.439.file/Mulliner%20Article%20Teaser%204.jpg'\n",
        "img_name = img_url.split('/')[-1]\n",
        "img_name"
      ],
      "metadata": {
        "colab": {
          "base_uri": "https://localhost:8080/",
          "height": 36
        },
        "id": "j6b4UGxcJn-4",
        "outputId": "94f78ec7-b4ad-4ce1-b69e-4bfd7a24be27"
      },
      "execution_count": null,
      "outputs": [
        {
          "output_type": "execute_result",
          "data": {
            "text/plain": [
              "'Mulliner%20Article%20Teaser%204.jpg'"
            ],
            "application/vnd.google.colaboratory.intrinsic+json": {
              "type": "string"
            }
          },
          "metadata": {},
          "execution_count": 10
        }
      ]
    },
    {
      "cell_type": "code",
      "source": [
        "img = Image.open(BytesIO(requests.get(img_url).content))\n",
        "img.save('original/'+img_name, format = 'JPEG')"
      ],
      "metadata": {
        "id": "-DXNH5SiKwGL"
      },
      "execution_count": null,
      "outputs": []
    },
    {
      "cell_type": "code",
      "source": [
        "output_path = 'masked/'+img_name\n",
        "output_path"
      ],
      "metadata": {
        "colab": {
          "base_uri": "https://localhost:8080/",
          "height": 36
        },
        "id": "Uf6EIGhQMHJu",
        "outputId": "53df0d05-1ba8-42ad-dfe6-73663accc8eb"
      },
      "execution_count": null,
      "outputs": [
        {
          "output_type": "execute_result",
          "data": {
            "text/plain": [
              "'masked/Mulliner%20Article%20Teaser%204.jpg'"
            ],
            "application/vnd.google.colaboratory.intrinsic+json": {
              "type": "string"
            }
          },
          "metadata": {},
          "execution_count": 12
        }
      ]
    },
    {
      "cell_type": "code",
      "source": [
        "with open(output_path, 'wb' ) as f:\n",
        "  input = open('original/'+img_name, 'rb').read()\n",
        "  subject = remove(input, alpha_matting = True, alpha_matting_threshold = 50)\n",
        "  f.write(subject)"
      ],
      "metadata": {
        "id": "dC1vLgmOP5ff"
      },
      "execution_count": null,
      "outputs": []
    },
    {
      "cell_type": "code",
      "source": [
        "background_img = 'https://media.istockphoto.com/id/899836048/photo/country-road-and-mountains-with-forest-in-summer.jpg?s=612x612&w=0&k=20&c=BTCLWr0jmCcofAB8tJ13UtjqSsmNsAJP0AnR-N20ruI='\n",
        "background_img = Image.open(BytesIO(requests.get(background_img).content)) # Changed 'opne' to 'open'\n",
        "background_img = background_img.resize((img.width,img.height))\n",
        "foreground_img = Image.open(output_path)\n",
        "background_img.paste(foreground_img, (0,0), foreground_img)\n",
        "background_img.save('masked/background.jpg', format = 'JPEG' )"
      ],
      "metadata": {
        "id": "toRv7gm2RfFp"
      },
      "execution_count": null,
      "outputs": []
    }
  ]
}